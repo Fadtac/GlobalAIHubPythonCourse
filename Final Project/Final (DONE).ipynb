{
 "cells": [
  {
   "cell_type": "code",
   "execution_count": 2,
   "metadata": {},
   "outputs": [
    {
     "name": "stdout",
     "output_type": "stream",
     "text": [
      "TÜRKÇE KLAVYE KULLANIMI ESAS ALINMIŞTIR\n",
      "Lütfen soruyu cevaplayınız :  Atatürk'ün doğum yeri neresidir ?\n",
      "              selanİk\n",
      "Lütfen soruyu cevaplayınız :  Türkiyenin başkenti neresidir?\n",
      "                 ankara\n",
      "Lütfen soruyu cevaplayınız :  Bir olayı anlık olarak kayıt altına sesli ve görüntülü olarak kaydeden cihazlara ne ad verilir ?\n",
      "kamera\n",
      "Lütfen soruyu cevaplayınız :  Hava sıcaklığını ölçen, ısının birim derecesine adını veren cihazın adı nedir?\n",
      "                  termometre\n",
      "Lütfen soruyu cevaplayınız :  Altın Palmiye Ödülleri hangi şehrimizde verilmektedir?\n",
      "                         antalya                    \n",
      "Lütfen soruyu cevaplayınız :  İnternet üzerinde en fazla kullanılan arama motoru hangisidir ?\n",
      "                            google                  \n",
      "Lütfen soruyu cevaplayınız :  Kağıt ve demir paraları basan matbaaların adı nedir?\n",
      "darphane                     \n",
      "Lütfen soruyu cevaplayınız :   Kadınlara seçme ve seçilme hakkı tanıyan ilk ülke hangisidir ?\n",
      "                           türkiye                     \n",
      "Lütfen soruyu cevaplayınız :  Avrupa Birliğinin başkenti neresidir?\n",
      "                     brüksel\n",
      "Lütfen soruyu cevaplayınız :  Nobel ödülü hangi ülkede verilmektedir?\n",
      "isveç          \n",
      "doğru cevap sayınız : 10 yanlış cevap sayınız : 0 puanınız : 100\n",
      "Hepsini Bildin Süpersin!!\n"
     ]
    }
   ],
   "source": [
    "print(\"TÜRKÇE KLAVYE KULLANIMI ESAS ALINMIŞTIR\")\n",
    "# Türkçede bulunan harfleri baz alarak hareket ettim. \n",
    "\n",
    "#10 ADET SORU OLUŞTURDUM\n",
    "questions={\n",
    "    \n",
    "    \"Atatürk'ün doğum yeri neresidir ?\":\"Selanik\",\n",
    "    \"Türkiyenin başkenti neresidir?\":\"Ankara\",\n",
    "    \"Bir olayı anlık olarak kayıt altına sesli ve görüntülü olarak kaydeden cihazlara ne ad verilir ?\":\"Kamera\",\n",
    "    \"Hava sıcaklığını ölçen, ısının birim derecesine adını veren cihazın adı nedir?\":\"Termometre\",\n",
    "    \"Altın Palmiye Ödülleri hangi şehrimizde verilmektedir?\":\"Antalya\",\n",
    "    \"İnternet üzerinde en fazla kullanılan arama motoru hangisidir ?\":\"Google\",\n",
    "    \"Kağıt ve demir paraları basan matbaaların adı nedir?\":\"Darphane\",\n",
    "    \" Kadınlara seçme ve seçilme hakkı tanıyan ilk ülke hangisidir ?\":\"Türkiye\",\n",
    "    \"Avrupa Birliğinin başkenti neresidir?\":\"Brüksel\",\n",
    "    \"Nobel ödülü hangi ülkede verilmektedir?\":\"İsveç\"\n",
    "}\n",
    "def func(kontrol):                         # burada girilen cevabın ve normal cevabın içinde bulunan \"İ\" ve \"I\" nın \n",
    "                                           #küçük harfe dönüşümündeki problemi çözdüm.\n",
    " \n",
    "    for i in kontrol:\n",
    "        if i == 'İ':\n",
    "            kontrol = kontrol.replace('İ', 'i')\n",
    "        elif i == 'I':\n",
    "            kontrol = kontrol.replace('I', 'ı')\n",
    "    return kontrol.lower()                   #ı ve i dönüşümü yapıldıktan sonra küçük harf formatında geri gönderiliyor.\n",
    "\n",
    "\n",
    "#burada skor hesabı yapmam için gerekn değişkenlerle birlikte harf kontrolünü sağlamak için gereken değişkenleri oluşturdum.\n",
    "kontrol1=\"\"\n",
    "kontrol2=\"\"\n",
    "puan=0\n",
    "doğru=0\n",
    "yanlış=0\n",
    "for x,y in questions.items():          #soruların cevaplarını kullanıcıdan almak için bir loop oluşturdum\n",
    "    print(\"Lütfen soruyu cevaplayınız : \",x)\n",
    "    cevap=input()    \n",
    "    kontrol1=func(cevap.strip())       #kullanıcından alınan cevabın sağdan ve soldan boşluklarını alıp fonksiyona gönderdim\n",
    "    \n",
    "    kontrol2=func(y)    \n",
    "    \n",
    "                                       #ayni işlemi sorunun gerçek cevabı içinde yaptım\n",
    "    if( kontrol1==kontrol2):           #birbirlerine eşit olup olmadığını kontrol etti bu duruma göre puan doğru ve yanlışı hesapladı\n",
    "        puan+=10\n",
    "        doğru+=1\n",
    "    else:\n",
    "        yanlış+=1\n",
    "print(\"doğru cevap sayınız : {} yanlış cevap sayınız : {} puanınız : {}\".format(doğru,yanlış,puan))\n",
    "\n",
    "\n",
    "if(yanlış==0):                         #yanlış sayısına göre kullanıcıya bir mesaj gönderiyor\n",
    "    print(\"Hepsini Bildin Süpersin!!\")\n",
    "elif(yanlış<5):\n",
    "    print(\"Başarılı oldunuz.\")\n",
    "else:\n",
    "    print(\"Başarısız Oldunuz\")"
   ]
  }
 ],
 "metadata": {
  "kernelspec": {
   "display_name": "Python 3",
   "language": "python",
   "name": "python3"
  },
  "language_info": {
   "codemirror_mode": {
    "name": "ipython",
    "version": 3
   },
   "file_extension": ".py",
   "mimetype": "text/x-python",
   "name": "python",
   "nbconvert_exporter": "python",
   "pygments_lexer": "ipython3",
   "version": "3.8.5"
  }
 },
 "nbformat": 4,
 "nbformat_minor": 4
}
