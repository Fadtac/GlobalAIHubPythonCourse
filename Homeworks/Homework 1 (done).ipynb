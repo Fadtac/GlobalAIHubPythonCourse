{
 "cells": [
  {
   "cell_type": "code",
   "execution_count": 1,
   "metadata": {},
   "outputs": [
    {
     "name": "stdout",
     "output_type": "stream",
     "text": [
      "<class 'int'>\n",
      "<class 'int'>\n",
      "<class 'int'>\n",
      "<class 'int'>\n",
      "<class 'int'>\n",
      "<class 'int'>\n",
      "<class 'int'>\n",
      "<class 'int'>\n",
      "<class 'int'>\n",
      "<class 'int'>\n",
      "<class 'int'>\n",
      "<class 'int'>\n",
      "<class 'int'>\n",
      "<class 'int'>\n",
      "<class 'int'>\n",
      "<class 'int'>\n",
      "[2, 6, 10, 14, 18, 22, 26, 30, 4, 8, 12, 16, 20, 24, 28, 32]\n"
     ]
    }
   ],
   "source": [
    "odd=[1,3,5,7,9,11,13,15]       #tek sayıları oluşturdum\n",
    "even=[2,4,6,8,10,12,14,16]     #çift sayıları oluşturdum\n",
    "combine=[]                     #boş liste oluşturdum bu iki listeyi birleştirmek için \n",
    "combine.extend(odd)            #tek sayıları boş listenin içine ekledim \n",
    "combine.extend(even)           #çift sayıları listenin içine ekledim\n",
    "combine=[x*2 for x in combine] # combine adlı listenin içindeki tüm değerleri 2 ile çarptım\n",
    "for v in combine:              # combine adlı listenin içindeki sayıların türünü yazıyor.\n",
    "    print(type(v))\n",
    "print(combine)"
   ]
  }
 ],
 "metadata": {
  "kernelspec": {
   "display_name": "Python 3",
   "language": "python",
   "name": "python3"
  },
  "language_info": {
   "codemirror_mode": {
    "name": "ipython",
    "version": 3
   },
   "file_extension": ".py",
   "mimetype": "text/x-python",
   "name": "python",
   "nbconvert_exporter": "python",
   "pygments_lexer": "ipython3",
   "version": "3.8.5"
  }
 },
 "nbformat": 4,
 "nbformat_minor": 4
}
