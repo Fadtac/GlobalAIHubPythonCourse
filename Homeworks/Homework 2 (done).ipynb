{
 "cells": [
  {
   "cell_type": "code",
   "execution_count": null,
   "metadata": {},
   "outputs": [
    {
     "name": "stdout",
     "output_type": "stream",
     "text": [
      "Lütfen istenilen değeri giriniz :  AD\n"
     ]
    }
   ],
   "source": [
    "\"\"\"Aşağıda oluşturduğum örnek cv üzerinden diğer cvleri dolduracağım.\n",
    "\"\"\"\n",
    "cv={\n",
    "    \"AD\":\"FADIL\",\n",
    "    \"SOYAD\":\"TAÇ\",\n",
    "    \"YAŞ\":21,\n",
    "    \"ALAN\":\"ELEKTRİK ELEKTRONİK MÜHENDİSLİĞİ\",\n",
    "    \"TECRÜBE\":\"YOK\"\n",
    "}\n",
    "\n",
    "CV1={}\n",
    "CV2={}\n",
    "CV3={}\n",
    "CV4={}\n",
    "CV5={}\n",
    "a={}\n",
    "list1=[CV1,CV2,CV3,CV4,CV5]\n",
    "for x in range(0,len(list1)):#listenin içinde bulunan boş dict halindeki cvleri örnekteki cvnin formatını almasını sağladım.\n",
    "    list1[x]=cv.copy()\n",
    "for x in range(0,len(list1)):#listenin içindeki her bir cv yi tek tek doldurmak için önce cvyi \"a\" ya kopyladım\n",
    "    \n",
    "    a=list1[x].copy()\n",
    "    for k,v in a.items(): #a daki itemleri alıp key:value eşleşmesine uygun şekilde \n",
    "                          #her bir key için uygun bir value değeri alıp bunu orjinal haline aktardım\n",
    "      print(\"Lütfen istenilen değeri giriniz : \",k)\n",
    "      new=input()\n",
    "      v=new\n",
    "      a[k]=new\n",
    "    list1[x]=a.copy()   \n",
    "for x in range(0,len(list1)):#düzgün gözükmesi adına her birini tek tek bastırdım.\n",
    "   print(list1[x])\n"
   ]
  },
  {
   "cell_type": "code",
   "execution_count": null,
   "metadata": {},
   "outputs": [],
   "source": []
  }
 ],
 "metadata": {
  "kernelspec": {
   "display_name": "Python 3",
   "language": "python",
   "name": "python3"
  },
  "language_info": {
   "codemirror_mode": {
    "name": "ipython",
    "version": 3
   },
   "file_extension": ".py",
   "mimetype": "text/x-python",
   "name": "python",
   "nbconvert_exporter": "python",
   "pygments_lexer": "ipython3",
   "version": "3.8.5"
  }
 },
 "nbformat": 4,
 "nbformat_minor": 4
}
